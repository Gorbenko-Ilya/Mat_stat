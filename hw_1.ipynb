{
 "cells": [
  {
   "cell_type": "markdown",
   "metadata": {},
   "source": [
    "## Домашнее задание №1\n",
    "\n",
    "Горбенко Илья"
   ]
  },
  {
   "cell_type": "code",
   "execution_count": 3,
   "metadata": {},
   "outputs": [],
   "source": [
    "%matplotlib inline"
   ]
  },
  {
   "cell_type": "code",
   "execution_count": 1,
   "metadata": {},
   "outputs": [],
   "source": [
    "import numpy as np\n",
    "from matplotlib import pyplot as plt\n",
    "import scipy.optimize as opt\n",
    "import scipy as sp\n",
    "from numpy import linalg as alg\n",
    "#import sklearn\n",
    "import datetime\n",
    "import time\n",
    "ln = np.log\n",
    "import random as rd\n",
    "import numpy as np\n",
    "from numpy import array\n",
    "from numpy import prod\n",
    "import math"
   ]
  },
  {
   "cell_type": "markdown",
   "metadata": {},
   "source": [
    "$$\\theta = \\left(\\frac{k!}{\\frac{\\sum(X^k)}{n}}\\right)^{1/k}$$"
   ]
  },
  {
   "cell_type": "code",
   "execution_count": 15,
   "metadata": {
    "scrolled": false
   },
   "outputs": [
    {
     "name": "stdout",
     "output_type": "stream",
     "text": [
      "Эксп\n"
     ]
    }
   ],
   "source": [
    "#экспоненциальное распределение сразу в степени\n",
    "def create_exponential(n, k=1, scale=1.0):\n",
    "    x=np.random.exponential(1/scale, n)**k\n",
    "    return x\n",
    "\n",
    "    \n",
    "print(\"Эксп\")\n",
    "plot=[]\n",
    "x=[]\n",
    "y=[]\n",
    "for k in range(1,100):\n",
    "    s=0\n",
    "    s1=0\n",
    "    s2=0\n",
    "    l=1000 #число повторений\n",
    "    for i in range(1,l):\n",
    "        n=1000 #чисел в выборке\n",
    "        theta = 1\n",
    "        exp=array(create_exponential(n, k, theta))\n",
    "        mean = sum(exp)/n\n",
    "        exp_thetha = (math.factorial(k)/mean)**(1/(k))\n",
    "        #theta = 1/mean\n",
    "        s+=(exp_thetha-theta)**2\n",
    "    x.append(k)\n",
    "    y.append((s/l)**(1/2))"
   ]
  },
  {
   "cell_type": "code",
   "execution_count": 18,
   "metadata": {},
   "outputs": [
    {
     "name": "stdout",
     "output_type": "stream",
     "text": [
      "[0.84059416 0.25650926 0.53328705 0.10121425 0.64326258]\n",
      "[0.59396262 0.01687754 0.15166422 0.00103687 0.26617353]\n"
     ]
    }
   ],
   "source": [
    "exp=array(create_exponential(5))\n",
    "print(exp)\n",
    "print(exp**3)"
   ]
  },
  {
   "cell_type": "code",
   "execution_count": 16,
   "metadata": {},
   "outputs": [
    {
     "data": {
      "image/png": "[encoded data removed]",
      "text/plain": [
       "<Figure size 432x288 with 1 Axes>"
      ]
     },
     "metadata": {
      "needs_background": "light"
     },
     "output_type": "display_data"
    }
   ],
   "source": [
    "fig, ax = plt.subplots()\n",
    "ax.plot(x, y)\n",
    "\n",
    "ax.set(xlabel='degree (k)', ylabel='deviation [(theta - theta*)]',\n",
    "       title='СКО от k')\n",
    "ax.grid()\n",
    "\n",
    "fig.savefig(\"test.png\")\n",
    "plt.show()"
   ]
  },
  {
   "cell_type": "code",
   "execution_count": null,
   "metadata": {},
   "outputs": [],
   "source": []
  },
  {
   "cell_type": "code",
   "execution_count": null,
   "metadata": {},
   "outputs": [],
   "source": []
  }
 ],
 "metadata": {
  "anaconda-cloud": {},
  "kernelspec": {
   "display_name": "Python 3",
   "language": "python",
   "name": "python3"
  },
  "language_info": {
   "codemirror_mode": {
    "name": "ipython",
    "version": 3
   },
   "file_extension": ".py",
   "mimetype": "text/x-python",
   "name": "python",
   "nbconvert_exporter": "python",
   "pygments_lexer": "ipython3",
   "version": "3.7.4"
  },
  "pycharm": {
   "stem_cell": {
    "cell_type": "raw",
    "metadata": {
     "collapsed": false
    },
    "source": []
   }
  }
 },
 "nbformat": 4,
 "nbformat_minor": 1
}
